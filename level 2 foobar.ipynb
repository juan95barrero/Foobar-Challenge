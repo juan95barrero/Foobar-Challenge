{
 "cells": [
  {
   "cell_type": "markdown",
   "metadata": {},
   "source": [
    "# Foobar Challenge lvl 2\n",
    "\n",
    "\n",
    "\n",
    "## Problem 1\n",
    "\n",
    "**Commander Lambda's space station is HUGE. And huge space stations take a LOT of power. Huge space stations with doomsday devices take even more power. To help meet the station's power needs, Commander Lambda has installed solar panels on the station's outer surface. But the station sits in the middle of a quasar quantum flux field, which wreaks havoc on the solar panels. You and your team of henchmen have been assigned to repair the solar panels, but you'd rather not take down all of the panels at once if you can help it, since they do help power the space station and all!**\n",
    "\n",
    "**You need to figure out which sets of panels in any given array you can take offline to repair while still maintaining the maximum amount of power output per array, and to do THAT, you'll first need to figure out what the maximum output of each array actually is. Write a function solution(xs) that takes a list of integers representing the power output levels of each panel in an array, and returns the maximum product of some non-empty subset of those numbers. So for example, if an array contained panels with power output levels of [2, -3, 1, 0, -5], then the maximum product would be found by taking the subset: xs[0] = 2, xs[1] = -3, xs[4] = -5, giving the product 2*(-3)*(-5) = 30.  So solution([2,-3,1,0,-5]) will be \"30\".**\n",
    "\n",
    "**Each array of solar panels contains at least 1 and no more than 50 panels, and each panel will have a power output level whose absolute value is no greater than 1000 (some panels are malfunctioning so badly that they're draining energy, but you know a trick with the panels' wave stabilizer that lets you combine two negative-output panels to produce the positive output of the multiple of their power values). The final products may be very large, so give the solution as a string representation of the number.**"
   ]
  },
  {
   "cell_type": "code",
   "execution_count": null,
   "metadata": {},
   "outputs": [],
   "source": [
    "#Este codigo da\n",
    "\n",
    "\n",
    "def solution(xs):\n",
    "    if len(xs) == 1 and xs[0] < 0:\n",
    "        return str(xs[0])\n",
    "    \n",
    "    list_negative = []\n",
    "    list_positive = []\n",
    "    power = 1\n",
    "    for num in xs:\n",
    "        if num > 0:\n",
    "            list_positive.append(num)\n",
    "        elif num < 0:\n",
    "            list_negative.append(num)\n",
    "            \n",
    "    if len(list_negative) == 0 and len(list_positive) ==0:\n",
    "        return '0'\n",
    "    elif len(list_positive) == 0 and len(list_negative) == 1:\n",
    "        return '0'\n",
    "    \n",
    "    for num in list_positive:\n",
    "        power *= num\n",
    "        \n",
    "    list_negative.sort()\n",
    "    \n",
    "    if len(list_negative) % 2 == 0:\n",
    "        for num in list_negative:\n",
    "            power *= num\n",
    "    else:\n",
    "        for num in list_negative[:-1]:\n",
    "            power *= num\n",
    "    return str(power)"
   ]
  },
  {
   "cell_type": "code",
   "execution_count": null,
   "metadata": {},
   "outputs": [],
   "source": [
    "def solution(xs):\n",
    "    \n",
    "    #For this case if the unique number in the array is less than 0, this is the maximum power\n",
    "    if len(xs) == 1 and xs[0] < 0:\n",
    "        return str(xs[0])\n",
    "    \n",
    "    #We create a list of negative numbers and sort it, first, to verify it is even or odd and dont take in account the\n",
    "    #negative number closed to 0 \n",
    "    list_negative = []\n",
    "    any_positive = False\n",
    "    power = 1\n",
    "    \n",
    "    for num in xs:\n",
    "        if num > 0:\n",
    "            power *= num\n",
    "            any_positive = True\n",
    "        elif num < 0:\n",
    "            list_negative.append(num)\n",
    "            \n",
    "    #In this conditional, if there are no negative numbers and no positive numbers, the array was\n",
    "    #[0,0,0,0...], so the greatest power that can we achive is 0, in the other case, if there are no positive numbers\n",
    "    #and only one negative number the array can be [-1,0,0,0,0]\n",
    "    if len(list_negative) == 0 and any_positive == False:\n",
    "        return '0'\n",
    "    elif any_positive == False and len(list_negative) == 1:\n",
    "        return '0'\n",
    "\n",
    "    #This part of code, sort the negative array in order to multiply the biggest ones and discard the nearest to 0,\n",
    "    #or take all the negative number in case that %2 == 0\n",
    "    list_negative.sort()\n",
    "    \n",
    "    if len(list_negative) % 2 == 0:\n",
    "        for num in list_negative:\n",
    "            power *= num\n",
    "    else:\n",
    "        for num in list_negative[:-1]:\n",
    "            power *= num\n",
    "            \n",
    "    return str(power)"
   ]
  },
  {
   "cell_type": "markdown",
   "metadata": {},
   "source": [
    "# Problem 2\n",
    "\n",
    "**Oh no! Commander Lambda's latest experiment to improve the efficiency of the LAMBCHOP doomsday device has backfired spectacularly. The Commander had been improving the structure of the ion flux converter tree, but something went terribly wrong and the flux chains exploded. Some of the ion flux converters survived the explosion intact, but others had their position labels blasted off. Commander Lambda is having her henchmen rebuild the ion flux converter tree by hand, but you think you can do it much more quickly -- quickly enough, perhaps, to earn a promotion!**\n",
    "\n",
    "**Flux chains require perfect binary trees, so Lambda's design arranged the ion flux converters to form one. To label them, Lambda performed a post-order traversal of the tree of converters and labeled each converter with the order of that converter in the traversal, starting at 1. For example, a tree of 7 converters would look like the following:**\n",
    "\n",
    "        7\n",
    "      3    6\n",
    " \n",
    "    1  2  4  5\n",
    "\n",
    "**Write a function solution(h, q) - where h is the height of the perfect tree of converters and q is a list of positive integers representing different flux converters - which returns a list of integers p where each element in p is the label of the converter that sits on top of the respective converter in q, or -1 if there is no such converter.  For example, solution(3, [1, 4, 7]) would return the converters above the converters at indexes 1, 4, and 7 in a perfect binary tree of height 3, which is [3, 6, -1].**\n",
    "\n",
    "**The domain of the integer h is 1 <= h <= 30, where h = 1 represents a perfect binary tree containing only the root, h = 2 represents a perfect binary tree with the root and two leaf nodes, h = 3 represents a perfect binary tree with the root, two internal nodes and four leaf nodes (like the example above), and so forth.  The lists q and p contain at least one but no more than 10000 distinct integers, all of which will be between 1 and 2^h-1, inclusive.**"
   ]
  },
  {
   "cell_type": "markdown",
   "metadata": {},
   "source": [
    "### First approach\n",
    "\n",
    "**The fisrt approach works, but if the input is too large, it takes several time to calculate every parent**"
   ]
  },
  {
   "cell_type": "code",
   "execution_count": 20,
   "metadata": {},
   "outputs": [],
   "source": [
    "def solution(h, q):\n",
    "    \n",
    "    root = (2**h)-1\n",
    "    \n",
    "    solution = []\n",
    "    solution_str = ''\n",
    "    \n",
    "    for to_find in q:\n",
    "        \n",
    "        upper_bound = root\n",
    "        lower_bound = 0\n",
    "        parent = -1\n",
    "        \n",
    "        while (upper_bound != to_find and lower_bound != to_find):\n",
    "\n",
    "            z = lower_bound + ((upper_bound-lower_bound)//2)\n",
    "            if z > to_find:\n",
    "                parent = upper_bound\n",
    "                upper_bound = z\n",
    "            else:\n",
    "\n",
    "                parent = upper_bound\n",
    "                upper_bound -= 1\n",
    "                lower_bound = z\n",
    "                \n",
    "        solution.append(parent)\n",
    "\n",
    "            \n",
    "    return solution  "
   ]
  },
  {
   "cell_type": "code",
   "execution_count": 21,
   "metadata": {},
   "outputs": [
    {
     "name": "stdout",
     "output_type": "stream",
     "text": [
      "[21, 13, 15, 29, 63, -1]\n"
     ]
    }
   ],
   "source": [
    "print(solution(8,[19, 11,14, 28, 31, 255]))"
   ]
  },
  {
   "cell_type": "markdown",
   "metadata": {},
   "source": [
    "### Second approach\n",
    "\n",
    "**The second approach is the same as the first, but it take every seen node and it parent and append it to a dictionary in order to develop a memoized solution, in this way, before calculate the parent of a node it first look into the dictionary and return it if this exist**"
   ]
  },
  {
   "cell_type": "code",
   "execution_count": 18,
   "metadata": {},
   "outputs": [],
   "source": [
    "def solution(h, q):\n",
    "    \n",
    "    #We calculate the root of the tree, with the formula (2^h)-1, create the memoized dictionary and the solution array\n",
    "    root = (2**h)-1\n",
    "    dict_need = {}\n",
    "    solution = []\n",
    "    \n",
    "    for to_find in q:\n",
    "        \n",
    "        #For each iteration our initial bounds are 0 and the root\n",
    "        #And the parent for the root will always be -1\n",
    "        upper_bound = root\n",
    "        lower_bound = 0\n",
    "        parent = -1\n",
    "        \n",
    "        #If the root doesnt are in the dictionary, we create the key:value pair\n",
    "        if upper_bound not in dict_need.keys():\n",
    "            dict_need[upper_bound] = parent\n",
    "        \n",
    "        #Before we start to search the parent of the number to find, we search if previously\n",
    "        #we calculate it and return it\n",
    "        if to_find in dict_need.keys():\n",
    "            solution.append(dict_need[to_find])\n",
    "        \n",
    "        # In the case that we have not calculated the parent of a certain number, we enter this loop to calculate it,\n",
    "        # and create the key pair: value for each node that we can see, in case of not having it\n",
    "        else:\n",
    "            while (upper_bound != to_find and lower_bound != to_find):\n",
    "\n",
    "                z = lower_bound + ((upper_bound-lower_bound)//2)\n",
    "                if z > to_find:\n",
    "                    parent = upper_bound\n",
    "                    upper_bound = z\n",
    "\n",
    "                    if upper_bound not in dict_need.keys():\n",
    "                        dict_need[upper_bound] = parent\n",
    "\n",
    "                else:\n",
    "\n",
    "                    parent = upper_bound\n",
    "                    upper_bound -= 1\n",
    "                    lower_bound = z\n",
    "\n",
    "                    if upper_bound not in dict_need.keys():\n",
    "                        dict_need[upper_bound] = parent\n",
    "\n",
    "            solution.append(parent)\n",
    "\n",
    "    return solution  "
   ]
  }
 ],
 "metadata": {
  "kernelspec": {
   "display_name": "Python 3",
   "language": "python",
   "name": "python3"
  },
  "language_info": {
   "codemirror_mode": {
    "name": "ipython",
    "version": 3
   },
   "file_extension": ".py",
   "mimetype": "text/x-python",
   "name": "python",
   "nbconvert_exporter": "python",
   "pygments_lexer": "ipython3",
   "version": "3.8.5"
  }
 },
 "nbformat": 4,
 "nbformat_minor": 4
}
